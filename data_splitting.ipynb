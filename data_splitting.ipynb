{
 "cells": [
  {
   "cell_type": "code",
   "execution_count": 1,
   "metadata": {},
   "outputs": [],
   "source": [
    "import pandas as pd\n",
    "import numpy as np"
   ]
  },
  {
   "cell_type": "code",
   "execution_count": 2,
   "metadata": {},
   "outputs": [
    {
     "name": "stdout",
     "output_type": "stream",
     "text": [
      "Train set size: 199312\n",
      "Validation set size: 23670\n",
      "Test set size: 24419\n"
     ]
    }
   ],
   "source": [
    "if __name__ == '__main__':\n",
    "    # 加载CSV文件作为患者总数据\n",
    "    MIMICtable = pd.read_csv('/Users/zhangxiangyu/Library/CloudStorage/OneDrive-JohnsHopkins/capstone/ID3QNE-algorithm/mimic_sepsis/MIMICtable.csv')\n",
    "\n",
    "    #####################模型参数设置##############################\n",
    "    ncv = 10  # 交叉验证运行的次数\n",
    "    icustayidlist = MIMICtable['icustayid']\n",
    "    icuuniqueids = np.unique(icustayidlist)\n",
    "    N = icuuniqueids.size\n",
    "    grp = np.floor(ncv * np.random.rand(N, 1) + 1)\n",
    "\n",
    "    crossval1 = 1  # 利用等于1和不等于1\n",
    "    crossval2 = 2  # 利用等于1和不等于1\n",
    "    trainidx = icuuniqueids[np.where(grp > crossval2)[0]]\n",
    "    validationidx = icuuniqueids[np.where(grp == crossval1)[0]]\n",
    "    testidx = icuuniqueids[np.where(grp == crossval2)[0]]\n",
    "    \n",
    "    train = np.isin(icustayidlist, trainidx)\n",
    "    validation = np.isin(icustayidlist, validationidx)\n",
    "    test = np.isin(icustayidlist, testidx)\n",
    "\n",
    "    # 检查分割结果\n",
    "    print(f\"Train set size: {np.sum(train)}\")\n",
    "    print(f\"Validation set size: {np.sum(validation)}\")\n",
    "    print(f\"Test set size: {np.sum(test)}\")"
   ]
  },
  {
   "cell_type": "code",
   "execution_count": 3,
   "metadata": {},
   "outputs": [],
   "source": [
    "np.save('/Users/zhangxiangyu/Library/CloudStorage/OneDrive-JohnsHopkins/capstone/ID3QNE-algorithm/dataset/train.npy', train)\n",
    "np.save('/Users/zhangxiangyu/Library/CloudStorage/OneDrive-JohnsHopkins/capstone/ID3QNE-algorithm/dataset/validation.npy', validation)\n",
    "np.save('/Users/zhangxiangyu/Library/CloudStorage/OneDrive-JohnsHopkins/capstone/ID3QNE-algorithm/dataset/test.npy', test)"
   ]
  },
  {
   "cell_type": "code",
   "execution_count": 4,
   "metadata": {},
   "outputs": [],
   "source": [
    "# Check the contents of the test.npy\n",
    "test = np.load('/Users/zhangxiangyu/Library/CloudStorage/OneDrive-JohnsHopkins/capstone/ID3QNE-algorithm/dataset/test.npy')"
   ]
  },
  {
   "cell_type": "code",
   "execution_count": 5,
   "metadata": {},
   "outputs": [
    {
     "data": {
      "text/plain": [
       "array([False, False, False, ..., False, False, False])"
      ]
     },
     "execution_count": 5,
     "metadata": {},
     "output_type": "execute_result"
    }
   ],
   "source": [
    "test"
   ]
  }
 ],
 "metadata": {
  "kernelspec": {
   "display_name": "DQN",
   "language": "python",
   "name": "python3"
  },
  "language_info": {
   "codemirror_mode": {
    "name": "ipython",
    "version": 3
   },
   "file_extension": ".py",
   "mimetype": "text/x-python",
   "name": "python",
   "nbconvert_exporter": "python",
   "pygments_lexer": "ipython3",
   "version": "3.8.-1"
  }
 },
 "nbformat": 4,
 "nbformat_minor": 2
}
